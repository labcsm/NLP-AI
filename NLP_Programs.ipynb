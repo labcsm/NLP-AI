{
  "nbformat": 4,
  "nbformat_minor": 0,
  "metadata": {
    "colab": {
      "provenance": []
    },
    "kernelspec": {
      "name": "python3",
      "display_name": "Python 3"
    },
    "language_info": {
      "name": "python"
    }
  },
  "cells": [
    {
      "cell_type": "markdown",
      "source": [
        " Next word Prediction ngram model"
      ],
      "metadata": {
        "id": "N9OXg6u3mBDO"
      }
    },
    {
      "cell_type": "code",
      "execution_count": 6,
      "metadata": {
        "colab": {
          "base_uri": "https://localhost:8080/"
        },
        "id": "vuWBFTcFRWAm",
        "outputId": "23be8a66-b2b7-4067-a2bd-e6528f9fe671"
      },
      "outputs": [
        {
          "output_type": "stream",
          "name": "stderr",
          "text": [
            "[nltk_data] Downloading package punkt to /root/nltk_data...\n",
            "[nltk_data]   Package punkt is already up-to-date!\n"
          ]
        },
        {
          "output_type": "stream",
          "name": "stdout",
          "text": [
            " Enter a sentence: i was i will i was i should i can\n",
            "Enter the words separated by space: i\n",
            "following are the probable words with there probability\n",
            "{'was': 0.4, 'will': 0.2, 'should': 0.2, 'can': 0.2}\n",
            "Next probable word is: was\n"
          ]
        }
      ],
      "source": [
        "#  Next word Prediction ngram model\n",
        "\n",
        "import nltk\n",
        "import random as ran\n",
        "from collections import defaultdict, Counter\n",
        "# Ensure you have the NL TK package and data\n",
        "nltk.download('punkt')\n",
        "\n",
        "def pred_next_word(pre_words, model):\n",
        "  last_word = pre_words[ -1]\n",
        "  if last_word not in model:\n",
        "    return None\n",
        "  next_word_prob=model[last_word]\n",
        "  print(\"following are the probable words with there probability\" )\n",
        "  print(model [last_word])\n",
        "  next_word = max(next_word_prob, key=next_word_prob.get)\n",
        "  return next_word\n",
        "\n",
        "# Input sentence and process bi-grams\n",
        "sentence = input(\" Enter a sentence: \")\n",
        "tokens = nltk.word_tokenize (sentence. lower ())\n",
        "bi_gram = list(nltk.bigrams(tokens))\n",
        "pair_freq = defaultdict(int)\n",
        "\n",
        "# Count bi-gram frequencies\n",
        "for pair in bi_gram:\n",
        "  pair_freq[pair] += 1\n",
        "\n",
        "# Calculate total occurrences of each word\n",
        "total_word_count = Counter()\n",
        "for (w1, w2) in bi_gram:\n",
        "  total_word_count[w1] += 1\n",
        "\n",
        "# Build the mode L\n",
        "model=defaultdict(dict)\n",
        "for (w1, w2), freq in pair_freq.items():\n",
        "  model[w1][w2] = freq / total_word_count [w1]\n",
        "\n",
        "#print (f\" inProcessing bi-gram ({w1}, {w2)) \")\n",
        "#print (f\"Current state of model [fwI}): (model [w1 ]} \\n\")\n",
        "# Input previous words\n",
        "prev_words = input(\"Enter the words separated by space: \").lower(). split()\n",
        "\n",
        "# Predict next word\n",
        "next_word = pred_next_word (prev_words, model )\n",
        "print (\"Next probable word is:\", next_word)"
      ]
    },
    {
      "cell_type": "markdown",
      "source": [
        "#User Defined Function for ngram_frequency (unigrams,bigrams and trigrams ) for a given text input"
      ],
      "metadata": {
        "id": "L4Y2SjGymEKK"
      }
    },
    {
      "cell_type": "code",
      "source": [
        "#User Defined Function for ngram_frequency (unigrams,bigrams and trigrams ) for a given text input\n",
        "\n",
        "from collections import defaultdict\n",
        "from nltk.util import ngrams\n",
        "def calculate_ngram_frequency(ngram):\n",
        "    pair_freq = defaultdict(int)\n",
        "    for pair in ngram:\n",
        "        pair_freq[pair] += 1\n",
        "    return pair_freq\n",
        "# Prompt user for input\n",
        "sentence = input(\"Enter the sentence: \")\n",
        "\n",
        "# Uni-gram\n",
        "print(\"Uni-gram for given text is\")\n",
        "n_gram = ngrams(sentence.split(), 1)\n",
        "pair_freq = calculate_ngram_frequency(n_gram)\n",
        "for pair, freq in pair_freq.items():\n",
        "    print(pair[0], \"->\", freq)\n",
        "print(\"\\n\")\n",
        "\n",
        "# Bi-gram\n",
        "print(\"Bi-gram for given text is\")\n",
        "n_gram = ngrams(sentence.split(), 2)\n",
        "pair_freq = calculate_ngram_frequency(n_gram)\n",
        "for pair, freq in pair_freq.items():\n",
        "    print(pair, \"->\", freq)\n",
        "print(\"\\n\")\n",
        "\n",
        "# Tri-gram\n",
        "print(\"Tri-gram for given text is\")\n",
        "n_gram = ngrams(sentence.split(), 3)\n",
        "pair_freq = calculate_ngram_frequency(n_gram)\n",
        "for pair, freq in pair_freq.items():\n",
        "    print(pair, \"->\", freq)\n",
        "print(\"\\n\")\n",
        "\n",
        "# Four-gram\n",
        "print(\"Four-gram for given text is\")\n",
        "n_gram = ngrams(sentence.split(), 4)\n",
        "pair_freq = calculate_ngram_frequency(n_gram)\n",
        "for pair, freq in pair_freq.items():\n",
        "    print(pair, \"->\", freq)\n",
        "print(\"\\n\")\n"
      ],
      "metadata": {
        "colab": {
          "base_uri": "https://localhost:8080/"
        },
        "id": "-q2VfPwZTM-J",
        "outputId": "9c719e9b-f58e-41bf-d3d4-bb9c0d6d208c"
      },
      "execution_count": 7,
      "outputs": [
        {
          "output_type": "stream",
          "name": "stdout",
          "text": [
            "Enter the sentence: AIML is booming\n",
            "Uni-gram for given text is\n",
            "AIML -> 1\n",
            "is -> 1\n",
            "booming -> 1\n",
            "\n",
            "\n",
            "Bi-gram for given text is\n",
            "('AIML', 'is') -> 1\n",
            "('is', 'booming') -> 1\n",
            "\n",
            "\n",
            "Tri-gram for given text is\n",
            "('AIML', 'is', 'booming') -> 1\n",
            "\n",
            "\n",
            "Four-gram for given text is\n",
            "\n",
            "\n"
          ]
        }
      ]
    },
    {
      "cell_type": "markdown",
      "source": [
        "#n-gram Model Library function to generate unigrams,bigrams and trigrams for a given text input"
      ],
      "metadata": {
        "id": "M2ubfH-dmOQO"
      }
    },
    {
      "cell_type": "code",
      "source": [
        "#n-gram Model Library function\n",
        "#to generate unigrams,bigrams and trigrams for a given text input\n",
        "\n",
        "from nltk import ngrams\n",
        "\n",
        "# Function to generate n-grams for a given sentence\n",
        "def generate_ngrams(sentence, n):\n",
        "    grams = ngrams(sentence.split(), n)\n",
        "    return grams\n",
        "\n",
        "# Prompt user for input\n",
        "sentence = input(\"Enter the sentence: \")\n",
        "\n",
        "# Generate and print unigrams\n",
        "Uni_grams = generate_ngrams(sentence, 1)\n",
        "print(\"For the given text input, following Uni-grams are generated:\")\n",
        "for grams in Uni_grams:\n",
        "    print(grams)\n",
        "\n",
        "print(\"\\n\")\n",
        "\n",
        "# Generate and print bigrams\n",
        "Bi_grams = generate_ngrams(sentence, 2)\n",
        "print(\"For the given text input, following Bi-grams are generated:\")\n",
        "for grams in Bi_grams:\n",
        "    print(grams)\n",
        "\n",
        "print(\"\\n\")\n",
        "\n",
        "# Generate and print trigrams\n",
        "Tri_grams = generate_ngrams(sentence, 3)\n",
        "print(\"For the given text input, following Tri-grams are generated:\")\n",
        "for grams in Tri_grams:\n",
        "    print(grams)\n",
        "\n",
        "print(\"\\n\")\n",
        "\n",
        "# Generate and print four-grams\n",
        "Four_grams = generate_ngrams(sentence, 4)\n",
        "print(\"For the given text input, following Four-grams are generated:\")\n",
        "for grams in Four_grams:\n",
        "    print(grams)\n",
        "\n",
        "print(\"\\n\")\n"
      ],
      "metadata": {
        "colab": {
          "base_uri": "https://localhost:8080/"
        },
        "id": "UFdFpzzSWZB6",
        "outputId": "b8296ed0-ab44-40c8-d044-f6cba0a62f02"
      },
      "execution_count": 8,
      "outputs": [
        {
          "output_type": "stream",
          "name": "stdout",
          "text": [
            "Enter the sentence: AIML is booming\n",
            "For the given text input, following Uni-grams are generated:\n",
            "('AIML',)\n",
            "('is',)\n",
            "('booming',)\n",
            "\n",
            "\n",
            "For the given text input, following Bi-grams are generated:\n",
            "('AIML', 'is')\n",
            "('is', 'booming')\n",
            "\n",
            "\n",
            "For the given text input, following Tri-grams are generated:\n",
            "('AIML', 'is', 'booming')\n",
            "\n",
            "\n",
            "For the given text input, following Four-grams are generated:\n",
            "\n",
            "\n"
          ]
        }
      ]
    },
    {
      "cell_type": "markdown",
      "source": [
        "#User Defined Function for ngram_Model To generate unigrams, bigrams and trigrams given text input\n"
      ],
      "metadata": {
        "id": "e29_nsFFmcNw"
      }
    },
    {
      "cell_type": "code",
      "source": [
        "#User Defined Function for ngram_Model\n",
        "\n",
        "#To generate unigrams, bigrams and trigrams given text input\n",
        "\n",
        "\n",
        "# User defined function for n-gram generation\n",
        "def ngram_model(corpus, n):\n",
        "    words = corpus.split()  # Split the input text into words\n",
        "    output = []\n",
        "    for i in range(len(words) - n + 1):\n",
        "        output.append(words[i:i + n])\n",
        "    return output\n",
        "\n",
        "# Prompt user for input\n",
        "sentence = input(\"Enter the sentence: \")\n",
        "\n",
        "# Generate and print unigrams\n",
        "print(\"Uni-gram for given text is\")\n",
        "n_gram = ngram_model(sentence, 1)\n",
        "print(n_gram)\n",
        "print(\"\\n\")\n",
        "\n",
        "# Generate and print bigrams\n",
        "print(\"Bi-gram for given text is\")\n",
        "n_gram = ngram_model(sentence, 2)\n",
        "print(n_gram)\n",
        "print(\"\\n\")\n",
        "\n",
        "# Generate and print trigrams\n",
        "print(\"Tri-gram for given text is\")\n",
        "n_gram = ngram_model(sentence, 3)\n",
        "print(n_gram)\n",
        "print(\"\\n\")\n",
        "\n",
        "# Generate and print four-grams\n",
        "print(\"Four-gram for given text is\")\n",
        "n_gram = ngram_model(sentence, 4)\n",
        "print(n_gram)\n",
        "print(\"\\n\")\n"
      ],
      "metadata": {
        "colab": {
          "base_uri": "https://localhost:8080/"
        },
        "id": "j5tV48-FW3dL",
        "outputId": "e7720544-f928-4fed-bd56-d30255415f72"
      },
      "execution_count": 9,
      "outputs": [
        {
          "output_type": "stream",
          "name": "stdout",
          "text": [
            "Enter the sentence: AIML is booming\n",
            "Uni-gram for given text is\n",
            "[['AIML'], ['is'], ['booming']]\n",
            "\n",
            "\n",
            "Bi-gram for given text is\n",
            "[['AIML', 'is'], ['is', 'booming']]\n",
            "\n",
            "\n",
            "Tri-gram for given text is\n",
            "[['AIML', 'is', 'booming']]\n",
            "\n",
            "\n",
            "Four-gram for given text is\n",
            "[]\n",
            "\n",
            "\n"
          ]
        }
      ]
    },
    {
      "cell_type": "markdown",
      "source": [
        "#    part-of-speech tagging or POS tagging"
      ],
      "metadata": {
        "id": "R1h_cQDymmYd"
      }
    },
    {
      "cell_type": "code",
      "source": [
        "#    part-of-speech tagging or POS tagging\n",
        "\n",
        "\n",
        "import nltk\n",
        "from nltk.tokenize import word_tokenize\n",
        "\n",
        "nltk.download('punkt')\n",
        "nltk.download('averaged_perceptron_tagger')\n",
        "\n",
        "#TEXT11\n",
        "text11 = \"children shouldn't as one word drink a sugary drink before bed.\"\n",
        "tokens = word_tokenize(text11)  # Tokenize the text into words\n",
        "tagged_words = nltk.pos_tag(tokens)  # Perform part-of-speech tagging\n",
        "print(tagged_words)\n",
        "print()\n",
        "\n",
        "#Text13\n",
        "text13 = \"Visiting aunts can be a nuisance\"\n",
        "tokens = nltk.word_tokenize(text13)\n",
        "tagged_words = nltk.pos_tag(tokens)\n",
        "print(tagged_words)\n",
        "print()\n",
        "\n",
        "#text18\n",
        "text18 = \"the old man the boat\"\n",
        "tokens = nltk.word_tokenize(text18)\n",
        "tagged_words = nltk.pos_tag(tokens)\n",
        "print(tagged_words)\n",
        "print()\n",
        "\n",
        "#text19\n",
        "text19 = \"Colorless green ideas sleep furiously\"\n",
        "tokens = nltk.word_tokenize(text19)\n",
        "tagged_words = nltk.pos_tag(tokens)\n",
        "print(tagged_words)\n",
        "print()\n"
      ],
      "metadata": {
        "colab": {
          "base_uri": "https://localhost:8080/"
        },
        "id": "1Lz76QPSXXSu",
        "outputId": "d33345f7-5855-493a-d549-772c0bdf80c8"
      },
      "execution_count": 12,
      "outputs": [
        {
          "output_type": "stream",
          "name": "stdout",
          "text": [
            "[('children', 'NNS'), ('should', 'MD'), (\"n't\", 'RB'), ('as', 'IN'), ('one', 'CD'), ('word', 'NN'), ('drink', 'VB'), ('a', 'DT'), ('sugary', 'JJ'), ('drink', 'NN'), ('before', 'IN'), ('bed', 'NN'), ('.', '.')]\n",
            "\n",
            "[('Visiting', 'VBG'), ('aunts', 'NNS'), ('can', 'MD'), ('be', 'VB'), ('a', 'DT'), ('nuisance', 'NN')]\n",
            "\n",
            "[('the', 'DT'), ('old', 'JJ'), ('man', 'NN'), ('the', 'DT'), ('boat', 'NN')]\n",
            "\n",
            "[('Colorless', 'NNP'), ('green', 'JJ'), ('ideas', 'NNS'), ('sleep', 'VBP'), ('furiously', 'RB')]\n",
            "\n"
          ]
        },
        {
          "output_type": "stream",
          "name": "stderr",
          "text": [
            "[nltk_data] Downloading package punkt to /root/nltk_data...\n",
            "[nltk_data]   Package punkt is already up-to-date!\n",
            "[nltk_data] Downloading package averaged_perceptron_tagger to\n",
            "[nltk_data]     /root/nltk_data...\n",
            "[nltk_data]   Package averaged_perceptron_tagger is already up-to-\n",
            "[nltk_data]       date!\n"
          ]
        }
      ]
    },
    {
      "cell_type": "markdown",
      "source": [
        "#For a given set of grammar sentence of various depth"
      ],
      "metadata": {
        "id": "noBH3UTnmqpv"
      }
    },
    {
      "cell_type": "code",
      "source": [
        "#For a given set of grammar sentence of various depth\n",
        "\n",
        "\n",
        "\n",
        "from nltk.parse.generate import generate, demo_grammar\n",
        "from nltk import CFG\n",
        "grammar = CFG.fromstring(demo_grammar)\n",
        "print(grammar)\n",
        "\n",
        "\n",
        "# Generate and print sentences with depth 2\n",
        "print(\"Depth 2 Sentences:\")\n",
        "for sentence in generate(grammar, depth=2):\n",
        "    print(' '.join(sentence))\n",
        "\n",
        "# Generate and print sentences with depth 3\n",
        "print(\"\\nDepth 3 Sentences:\")\n",
        "for sentence in generate(grammar, depth=3):\n",
        "    print(' '.join(sentence))\n",
        "\n",
        "# Generate and print sentences with depth 4\n",
        "print(\"\\nDepth 4 Sentences:\")\n",
        "for sentence in generate(grammar, depth=4):\n",
        "    print(' '.join(sentence))\n",
        "print(\"\\n\")\n",
        "\n",
        "# Lengths\n",
        "print(\"Depth-3\",len(list(generate(grammar, depth=3))))\n",
        "print(\"Depth-4\",len(list(generate(grammar, depth=4))))\n",
        "print(\"Depth-5\",len(list(generate(grammar, depth=5))))"
      ],
      "metadata": {
        "colab": {
          "base_uri": "https://localhost:8080/"
        },
        "id": "H8Wewz9XZaWn",
        "outputId": "85252237-04d6-4034-9808-5993699a3b09"
      },
      "execution_count": 20,
      "outputs": [
        {
          "output_type": "stream",
          "name": "stdout",
          "text": [
            "Grammar with 13 productions (start state = S)\n",
            "    S -> NP VP\n",
            "    NP -> Det N\n",
            "    PP -> P NP\n",
            "    VP -> 'slept'\n",
            "    VP -> 'saw' NP\n",
            "    VP -> 'walked' PP\n",
            "    Det -> 'the'\n",
            "    Det -> 'a'\n",
            "    N -> 'man'\n",
            "    N -> 'park'\n",
            "    N -> 'dog'\n",
            "    P -> 'in'\n",
            "    P -> 'with'\n",
            "Depth 2 Sentences:\n",
            "\n",
            "Depth 3 Sentences:\n",
            "\n",
            "Depth 4 Sentences:\n",
            "the man slept\n",
            "the park slept\n",
            "the dog slept\n",
            "a man slept\n",
            "a park slept\n",
            "a dog slept\n",
            "\n",
            "\n",
            "Depth-3 0\n",
            "Depth-4 6\n",
            "Depth-5 42\n"
          ]
        }
      ]
    },
    {
      "cell_type": "markdown",
      "source": [
        "#     parsing the sentence structure to check if is grammatically correct or not"
      ],
      "metadata": {
        "id": "ange2VR2mtMt"
      }
    },
    {
      "cell_type": "code",
      "source": [
        "#     parsing the sentence structure to check if is grammatically correct or not\n",
        "\n",
        "\n",
        "import nltk\n",
        "from nltk.tokenize import word_tokenize\n",
        "grammar = nltk.CFG.fromstring(\"\"\"\n",
        "    S -> NP VP\n",
        "    NP -> \"Alice\" | \"Bob\"\n",
        "    VP -> \"loves\" NP\n",
        "\"\"\")\n",
        "parser = nltk.ChartParser(grammar)\n",
        "text14 = \"Alice loves Bob\"\n",
        "tokens = word_tokenize(text14)\n",
        "trees = parser.parse_all(tokens)\n",
        "if not trees:\n",
        "    print(\"Sentence cannot be parsed.\")\n",
        "else:\n",
        "    print(\"Parsed trees:\")\n",
        "    for tree in trees:\n",
        "        print(tree)\n"
      ],
      "metadata": {
        "colab": {
          "base_uri": "https://localhost:8080/"
        },
        "id": "ymnUrIsPaoL3",
        "outputId": "c0fc908d-5ef9-4958-9486-cfe0072549f6"
      },
      "execution_count": 14,
      "outputs": [
        {
          "output_type": "stream",
          "name": "stdout",
          "text": [
            "Parsed trees:\n",
            "(S (NP Alice) (VP loves (NP Bob)))\n"
          ]
        }
      ]
    },
    {
      "cell_type": "markdown",
      "source": [
        "#    parsing the sentence structure to check if is grammatically correct or not"
      ],
      "metadata": {
        "id": "5i-gRrCWmyVV"
      }
    },
    {
      "cell_type": "code",
      "source": [
        "#    parsing the sentence structure to check if is grammatically correct or not\n",
        "\n",
        "\n",
        "import nltk\n",
        "\n",
        "def check_grammar_coverage(grammar, tokens):\n",
        "    \"\"\"\n",
        "    Check if all tokens are covered by the grammar.\n",
        "\n",
        "    Args:\n",
        "    - grammar: nltk.CFG object representing the context-free grammar\n",
        "    - tokens: list of tokens (words) to be checked\n",
        "\n",
        "    Returns:\n",
        "    - bool: True if all tokens are covered by the grammar, False otherwise\n",
        "    \"\"\"\n",
        "    covered_tokens = set()\n",
        "    for production in grammar.productions():\n",
        "        for rhs in production.rhs():\n",
        "            if isinstance(rhs, str):\n",
        "                covered_tokens.add(rhs)\n",
        "    return all(token in covered_tokens for token in tokens)\n",
        "\n",
        "text14 = \"Alice loves Bob\"\n",
        "tokens = nltk.word_tokenize(text14)\n",
        "grammar = nltk.CFG.fromstring(\"\"\"\n",
        "S -> NP VP\n",
        "NP -> 'Alice' | 'Bob'\n",
        "VP -> 'loves' NP\n",
        "\"\"\")\n",
        "\n",
        "if not check_grammar_coverage(grammar, tokens):\n",
        "    print(\"Sentence is not grammatically correct.\")\n",
        "else:\n",
        "    parser = nltk.ChartParser(grammar)\n",
        "    trees = parser.parse_all(tokens)\n",
        "    if not trees:\n",
        "        print(\"Sentence is not grammatically correct.\")\n",
        "    else:\n",
        "        for tree in trees:\n",
        "            print(tree)\n",
        "\n",
        "# Ambiguity in parsing\n",
        "text15 = \"I saw the man with a telescope\"\n",
        "tokens = nltk.word_tokenize(text15)\n",
        "grammar1 = nltk.CFG.fromstring(\"\"\"\n",
        "S -> NP VP\n",
        "PP -> P NP\n",
        "NP -> Det N | Det N PP | 'I'\n",
        "VP -> V NP | VP PP\n",
        "Det -> 'a' | 'the'\n",
        "N -> 'man' | 'telescope'\n",
        "V -> 'saw'\n",
        "P -> 'with'\n",
        "\"\"\")\n",
        "\n",
        "parser = nltk.ChartParser(grammar1)\n",
        "trees = parser.parse_all(tokens)\n",
        "for tree in trees:\n",
        "    print(tree)\n"
      ],
      "metadata": {
        "colab": {
          "base_uri": "https://localhost:8080/"
        },
        "id": "Z77_z0gIcR-p",
        "outputId": "96ab6b70-457b-4c0d-db12-3d4b3f6f07bb"
      },
      "execution_count": 18,
      "outputs": [
        {
          "output_type": "stream",
          "name": "stdout",
          "text": [
            "(S (NP Alice) (VP loves (NP Bob)))\n",
            "(S\n",
            "  (NP I)\n",
            "  (VP\n",
            "    (VP (V saw) (NP (Det the) (N man)))\n",
            "    (PP (P with) (NP (Det a) (N telescope)))))\n",
            "(S\n",
            "  (NP I)\n",
            "  (VP\n",
            "    (V saw)\n",
            "    (NP (Det the) (N man) (PP (P with) (NP (Det a) (N telescope))))))\n"
          ]
        }
      ]
    },
    {
      "cell_type": "markdown",
      "source": [
        "#     Normalizing, Stemming and Lemmatization of words."
      ],
      "metadata": {
        "id": "omh4QKJfm0yX"
      }
    },
    {
      "cell_type": "code",
      "source": [
        "#     Normalizing, Stemming and Lemmatization of words.\n",
        "\n",
        "import nltk\n",
        "from nltk.tokenize import word_tokenize\n",
        "from nltk.stem import PorterStemmer, LancasterStemmer, WordNetLemmatizer\n",
        "\n",
        "# Ensure necessary NLTK data is downloaded\n",
        "nltk.download('punkt')\n",
        "nltk.download('wordnet')\n",
        "nltk.download('omw-1.4')\n",
        "nltk.download('udhr')\n",
        "\n",
        "# Input text\n",
        "input1 = u\"List, Listed, lists, listing, listings\"\n",
        "# Normalization: Convert to lowercase and split by comma\n",
        "words = input1.lower().split(', ')\n",
        "print(\"Normalized Words:\", words)\n",
        "# Output: ['list', 'listed', 'lists', 'listing', 'listings']\n",
        "\n",
        "# Stemming with PorterStemmer\n",
        "porter = PorterStemmer()\n",
        "porter_stemmed = [porter.stem(t) for t in words]\n",
        "print(\"Porter Stemmer:\", porter_stemmed)\n",
        "# Output: ['list', 'list', 'list', 'list', 'list']\n",
        "\n",
        "# Stemming with LancasterStemmer\n",
        "lancaster = LancasterStemmer()\n",
        "lancaster_stemmed = [lancaster.stem(t) for t in words]\n",
        "print(\"Lancaster Stemmer:\", lancaster_stemmed)\n",
        "# Output: ['list', 'list', 'list', 'list', 'list']\n",
        "\n",
        "# Lemmatization with WordNetLemmatizer\n",
        "lemmatizer = WordNetLemmatizer()\n",
        "lemmatized = [lemmatizer.lemmatize(t) for t in words]\n",
        "print(\"Lemmatized:\", lemmatized)\n",
        "# Output: ['list', 'listed', 'list', 'listing', 'listing']\n",
        "\n",
        "# Example with Universal Declaration of Human Rights\n",
        "udhr_words = nltk.corpus.udhr.words('English-Latin1')[:10]\n",
        "print(\"UDHR Words:\", udhr_words)\n",
        "# Output: ['Universal', 'Declaration', 'of', 'Human', 'Rights', 'Preamble', 'Whereas', 'recognition', 'of', 'the']\n",
        "\n",
        "# Stemming UDHR words with PorterStemmer\n",
        "porter_stemmed_udhr = [porter.stem(t) for t in udhr_words]\n",
        "print(\"Porter Stemmer UDHR:\", porter_stemmed_udhr)\n",
        "# Output: ['univers', 'declar', 'of', 'human', 'right', 'preambl', 'wherea', 'recognit', 'of', 'the']\n",
        "\n",
        "# Lemmatization UDHR words with WordNetLemmatizer\n",
        "lemmatized_udhr = [lemmatizer.lemmatize(t) for t in udhr_words]\n",
        "print(\"Lemmatized UDHR:\", lemmatized_udhr)\n",
        "# Output: ['Universal', 'Declaration', 'of', 'Human', 'Rights', 'Preamble', 'Whereas', 'recognition', 'of', 'the']\n"
      ],
      "metadata": {
        "colab": {
          "base_uri": "https://localhost:8080/"
        },
        "id": "8J83LjTrcy8X",
        "outputId": "121c28d5-e98b-45e8-c8dd-536fdeca0d4e"
      },
      "execution_count": 21,
      "outputs": [
        {
          "output_type": "stream",
          "name": "stderr",
          "text": [
            "[nltk_data] Downloading package punkt to /root/nltk_data...\n",
            "[nltk_data]   Package punkt is already up-to-date!\n",
            "[nltk_data] Downloading package wordnet to /root/nltk_data...\n",
            "[nltk_data] Downloading package omw-1.4 to /root/nltk_data...\n",
            "[nltk_data] Downloading package udhr to /root/nltk_data...\n",
            "[nltk_data]   Unzipping corpora/udhr.zip.\n"
          ]
        },
        {
          "output_type": "stream",
          "name": "stdout",
          "text": [
            "Normalized Words: ['list', 'listed', 'lists', 'listing', 'listings']\n",
            "Porter Stemmer: ['list', 'list', 'list', 'list', 'list']\n",
            "Lancaster Stemmer: ['list', 'list', 'list', 'list', 'list']\n",
            "Lemmatized: ['list', 'listed', 'list', 'listing', 'listing']\n",
            "UDHR Words: ['Universal', 'Declaration', 'of', 'Human', 'Rights', 'Preamble', 'Whereas', 'recognition', 'of', 'the']\n",
            "Porter Stemmer UDHR: ['univers', 'declar', 'of', 'human', 'right', 'preambl', 'wherea', 'recognit', 'of', 'the']\n",
            "Lemmatized UDHR: ['Universal', 'Declaration', 'of', 'Human', 'Rights', 'Preamble', 'Whereas', 'recognition', 'of', 'the']\n"
          ]
        }
      ]
    },
    {
      "cell_type": "markdown",
      "source": [
        "#    Tokenization"
      ],
      "metadata": {
        "id": "Xfv14vv_m3BR"
      }
    },
    {
      "cell_type": "code",
      "source": [
        "#    Tokenization\n",
        "\n",
        "\n",
        "import nltk\n",
        "from nltk.tokenize import word_tokenize, sent_tokenize\n",
        "\n",
        "# Word Splitting\n",
        "text11 = \"children shouldn't as one word drink a sugary drink before bed.\"\n",
        "# Using Python's split method\n",
        "split_words = text11.split(' ')\n",
        "print(\"Split Words using split():\", split_words)\n",
        "# Output: ['children', \"shouldn't\", 'as', 'one', 'word', 'drink', 'a', 'sugary', 'drink', 'before', 'bed.']\n",
        "\n",
        "# Using NLTK's word_tokenize method\n",
        "tokenized_words = word_tokenize(text11)\n",
        "print(\"Tokenized Words using word_tokenize():\", tokenized_words)\n",
        "# Output: ['children', 'should', \"n't\", 'as', 'one', 'word', 'drink', 'a', 'sugary', 'drink', 'before', 'bed', '.']\n",
        "\n",
        "# Sentence Splitting\n",
        "text12 = \"This is the first sentence. A gallon of milk in the U.S. costs $2.99. Is this the third sentence or a question mark? Yes, it is!\"\n",
        "\n",
        "# Using NLTK's sent_tokenize method\n",
        "tokenized_sentences = sent_tokenize(text12)\n",
        "print(\"Tokenized Sentences using sent_tokenize():\", tokenized_sentences)\n",
        "# Output: ['This is the first sentence.', 'A gallon of milk in the U.S. costs $2.99.', 'Is this the third sentence or a question mark?', 'Yes, it is!']\n"
      ],
      "metadata": {
        "colab": {
          "base_uri": "https://localhost:8080/"
        },
        "id": "mk36KOtTeOdp",
        "outputId": "8913e959-4199-483e-e020-f821cb02900f"
      },
      "execution_count": 22,
      "outputs": [
        {
          "output_type": "stream",
          "name": "stdout",
          "text": [
            "Split Words using split(): ['children', \"shouldn't\", 'as', 'one', 'word', 'drink', 'a', 'sugary', 'drink', 'before', 'bed.']\n",
            "Tokenized Words using word_tokenize(): ['children', 'should', \"n't\", 'as', 'one', 'word', 'drink', 'a', 'sugary', 'drink', 'before', 'bed', '.']\n",
            "Tokenized Sentences using sent_tokenize(): ['This is the first sentence.', 'A gallon of milk in the U.S. costs $2.99.', 'Is this the third sentence or a question mark?', 'Yes, it is!']\n"
          ]
        }
      ]
    },
    {
      "cell_type": "markdown",
      "source": [
        "#     Python code to implement additive smoothing technique for the given bi-gram probability martix"
      ],
      "metadata": {
        "id": "NzbnoN3Fm5PW"
      }
    },
    {
      "cell_type": "code",
      "source": [
        "#     Python code to implement additive smoothing technique for the given bi-gram probability martix\n",
        "\n",
        "\n",
        "\n",
        "import numpy as np\n",
        "from collections import defaultdict\n",
        "import pandas as pd\n",
        "\n",
        "# Define the bigram count matrix\n",
        "bigram_counts = {\n",
        "    'eos': {'eos': 0, 'I': 300, 'booked': 0, 'a': 0, 'flight': 0, 'took': 300},\n",
        "    'I': {'eos': 0, 'I': 0, 'booked': 300, 'a': 0, 'flight': 0, 'took': 0},\n",
        "    'booked': {'eos': 0, 'I': 0, 'booked': 0, 'a': 300, 'flight': 0, 'took': 0},\n",
        "    'a': {'eos': 0, 'I': 0, 'booked': 0, 'a': 0, 'flight': 600, 'took': 0},\n",
        "    'flight': {'eos': 600, 'I': 0, 'booked': 0, 'a': 0, 'flight': 0, 'took': 0},\n",
        "    'took': {'eos': 0, 'I': 0, 'booked': 0, 'a': 300, 'flight': 0, 'took': 0}\n",
        "}\n",
        "\n",
        "# Vocabulary\n",
        "vocab = list(bigram_counts.keys())\n",
        "vocab_size = len(vocab)\n",
        "\n",
        "# Additive smoothing parameter\n",
        "alpha = 1\n",
        "\n",
        "# Initialize smoothed bigram probabilities\n",
        "bigram_probabilities = defaultdict(lambda: defaultdict(float))\n",
        "\n",
        "# Apply additive smoothing\n",
        "for word1 in vocab:\n",
        "    total_count = sum(bigram_counts[word1].values())\n",
        "    for word2 in vocab:\n",
        "        count = bigram_counts[word1][word2]\n",
        "        bigram_probabilities[word1][word2] = (count + alpha) / (total_count + alpha * vocab_size)\n",
        "\n",
        "# Convert to a more readable format\n",
        "bigram_prob_matrix = np.zeros((vocab_size, vocab_size))\n",
        "word_to_index = {word: i for i, word in enumerate(vocab)}\n",
        "for word1 in vocab:\n",
        "    for word2 in vocab:\n",
        "        bigram_prob_matrix[word_to_index[word1], word_to_index[word2]] = bigram_probabilities[word1][word2]\n",
        "\n",
        "# Print the bigram count matrix\n",
        "print(\"Bi-gram probability before smoothing\")\n",
        "df1 = pd.DataFrame(bigram_counts, index=vocab, columns=vocab)\n",
        "print(df1)\n",
        "print(\"\\n\")\n",
        "\n",
        "# Print the smoothed bigram probabilities matrix\n",
        "print(\"Bi-gram probability after smoothing\")\n",
        "df = pd.DataFrame(bigram_prob_matrix, index=vocab, columns=vocab)\n",
        "print(df)\n"
      ],
      "metadata": {
        "colab": {
          "base_uri": "https://localhost:8080/"
        },
        "id": "oWfbUiAjeu69",
        "outputId": "82759424-641c-432e-934a-983a77d9b8be"
      },
      "execution_count": 23,
      "outputs": [
        {
          "output_type": "stream",
          "name": "stdout",
          "text": [
            "Bi-gram probability before smoothing\n",
            "        eos    I  booked    a  flight  took\n",
            "eos       0    0       0    0     600     0\n",
            "I       300    0       0    0       0     0\n",
            "booked    0  300       0    0       0     0\n",
            "a         0    0     300    0       0   300\n",
            "flight    0    0       0  600       0     0\n",
            "took    300    0       0    0       0     0\n",
            "\n",
            "\n",
            "Bi-gram probability after smoothing\n",
            "             eos         I    booked         a    flight      took\n",
            "eos     0.001650  0.496700  0.001650  0.001650  0.001650  0.496700\n",
            "I       0.003268  0.003268  0.983660  0.003268  0.003268  0.003268\n",
            "booked  0.003268  0.003268  0.003268  0.983660  0.003268  0.003268\n",
            "a       0.001650  0.001650  0.001650  0.001650  0.991749  0.001650\n",
            "flight  0.991749  0.001650  0.001650  0.001650  0.001650  0.001650\n",
            "took    0.003268  0.003268  0.003268  0.983660  0.003268  0.003268\n"
          ]
        }
      ]
    },
    {
      "cell_type": "markdown",
      "source": [
        "#  Python Program for analyzing word(token) distribution in a given text using FreqDist() function\n"
      ],
      "metadata": {
        "id": "wBNlBOTKm8c6"
      }
    },
    {
      "cell_type": "code",
      "source": [
        "#  Python Program for analyzing word(token) distribution in a given text using FreqDist() function\n",
        "\n",
        "\n",
        "\n",
        "import nltk\n",
        "from nltk.probability import FreqDist\n",
        "\n",
        "# Example text\n",
        "text = \"NLTK is a leading platform for building Python programs to work with human language data. NLTK is a powerful library.\"\n",
        "\n",
        "# Tokenize the text\n",
        "tokens = nltk.word_tokenize(text)\n",
        "\n",
        "# Create a frequency distribution\n",
        "fdist = FreqDist(tokens)\n",
        "\n",
        "# Total count of words in the frequency distribution\n",
        "total_count = fdist.N()\n",
        "\n",
        "# Total number of unique words\n",
        "freq_count = fdist.B()\n",
        "\n",
        "# Length of the original text\n",
        "text_length = len(text)\n",
        "\n",
        "print(\"Tokens are:\", tokens)\n",
        "print(\"Total count of all words (fdist.N()):\", total_count)\n",
        "print(\"Total frequency of all words (fdist.B()):\", freq_count)\n",
        "print(\"Length of the original text (len(text)):\", text_length)\n",
        "\n",
        "# Plot the frequency distribution\n",
        "fdist.plot()\n",
        "\n",
        "# Find the most common items\n",
        "most_common_items = fdist.most_common()\n",
        "\n",
        "# Print the most common items\n",
        "print(\"Most common items:\")\n",
        "for item, frequency in most_common_items:\n",
        "    print(f\"{item}: {frequency}\")\n"
      ],
      "metadata": {
        "colab": {
          "base_uri": "https://localhost:8080/",
          "height": 921
        },
        "id": "SnUvdTrNfmND",
        "outputId": "55812e89-6802-4fd1-f6e5-f528c0acd738"
      },
      "execution_count": 26,
      "outputs": [
        {
          "output_type": "stream",
          "name": "stdout",
          "text": [
            "Tokens are: ['NLTK', 'is', 'a', 'leading', 'platform', 'for', 'building', 'Python', 'programs', 'to', 'work', 'with', 'human', 'language', 'data', '.', 'NLTK', 'is', 'a', 'powerful', 'library', '.']\n",
            "Total count of all words (fdist.N()): 22\n",
            "Total frequency of all words (fdist.B()): 18\n",
            "Length of the original text (len(text)): 117\n"
          ]
        },
        {
          "output_type": "display_data",
          "data": {
            "text/plain": [
              "<Figure size 640x480 with 1 Axes>"
            ],
            "image/png": "[encoded data removed]"
          },
          "metadata": {}
        },
        {
          "output_type": "stream",
          "name": "stdout",
          "text": [
            "Most common items:\n",
            "NLTK: 2\n",
            "is: 2\n",
            "a: 2\n",
            ".: 2\n",
            "leading: 1\n",
            "platform: 1\n",
            "for: 1\n",
            "building: 1\n",
            "Python: 1\n",
            "programs: 1\n",
            "to: 1\n",
            "work: 1\n",
            "with: 1\n",
            "human: 1\n",
            "language: 1\n",
            "data: 1\n",
            "powerful: 1\n",
            "library: 1\n"
          ]
        }
      ]
    },
    {
      "cell_type": "markdown",
      "source": [
        "# wordnet using python program"
      ],
      "metadata": {
        "id": "uFmsZuH2m_ms"
      }
    },
    {
      "cell_type": "code",
      "source": [
        "# wordnet using python program\n",
        "\n",
        "import nltk\n",
        "from nltk.corpus import wordnet as wn\n",
        "\n",
        "\n",
        "# Function to get synsets, definitions, synonyms, antonyms, examples\n",
        "def analyze_word(word):\n",
        "    synsets = wn.synsets(word)\n",
        "    print(synsets)\n",
        "    synset=synsets[0]\n",
        "    print(synset.name())\n",
        "    print(synset.definition())\n",
        "    print(synset.hypernyms())\n",
        "    print(synset.hypernyms()[0].definition())\n",
        "\n",
        "# Example usage\n",
        "word = \"win\"\n",
        "analyze_word(word)\n"
      ],
      "metadata": {
        "colab": {
          "base_uri": "https://localhost:8080/"
        },
        "id": "VarqfwRUhGfr",
        "outputId": "f4b5e6ed-d4b8-4a38-d7c0-37b2ed1aa95f"
      },
      "execution_count": 54,
      "outputs": [
        {
          "output_type": "stream",
          "name": "stdout",
          "text": [
            "[Synset('win.n.01'), Synset('winnings.n.01'), Synset('win.v.01'), Synset('acquire.v.05'), Synset('gain.v.05'), Synset('succeed.v.01')]\n",
            "win.n.01\n",
            "a victory (as in a race or other competition)\n",
            "[Synset('victory.n.01')]\n",
            "a successful ending of a struggle or contest\n"
          ]
        }
      ]
    },
    {
      "cell_type": "code",
      "source": [],
      "metadata": {
        "id": "7y4t34gSkBPr"
      },
      "execution_count": null,
      "outputs": []
    }
  ]
}